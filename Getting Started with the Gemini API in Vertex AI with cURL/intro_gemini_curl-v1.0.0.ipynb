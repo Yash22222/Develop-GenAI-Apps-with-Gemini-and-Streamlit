{
 "cells": [
  {
   "cell_type": "code",
   "execution_count": null,
   "metadata": {
    "id": "ijGzTHJJUCPY"
   },
   "outputs": [],
   "source": [
    "# Licensed under the Apache License, Version 2.0 (the \"License\");\n",
    "# you may not use this file except in compliance with the License.\n",
    "# You may obtain a copy of the License at\n",
    "#\n",
    "#     https://www.apache.org/licenses/LICENSE-2.0\n",
    "#\n",
    "# Unless required by applicable law or agreed to in writing, software\n",
    "# distributed under the License is distributed on an \"AS IS\" BASIS,\n",
    "# WITHOUT WARRANTIES OR CONDITIONS OF ANY KIND, either express or implied.\n",
    "# See the License for the specific language governing permissions and\n",
    "# limitations under the License."
   ]
  },
  {
   "cell_type": "markdown",
   "metadata": {
    "id": "axauUzNXEl_R"
   },
   "source": [
    "## Overview\n",
    "\n",
    "### Gemini\n",
    "Gemini is a family of generative AI models developed by Google DeepMind. Gemini models support prompts that include text, image, and video as input and support text responses as output.\n",
    "\n",
    "### Gemini API in Vertex AI\n",
    "\n",
    "The Gemini API in Vertex AI provides a unified interface for interacting with Gemini models. You can interact with the Gemini API by using the following methods:\n",
    "\n",
    "* Use [Vertex AI Studio](https://cloud.google.com/generative-ai-studio) for quick testing and command generation.\n",
    "* Use cURL commands in Cloud Shell.\n",
    "* Use the Vertex AI SDK for Python in a Jupyter notebook\n",
    "\n",
    "This notebook focuses on using the **cURL commands** to call the Gemini API in Vertex AI.\n",
    "\n",
    "For more information, see the [Generative AI on Vertex AI](https://cloud.google.com/vertex-ai/docs/generative-ai/learn/overview) documentation."
   ]
  },
  {
   "cell_type": "markdown",
   "metadata": {
    "id": "yyaOZAg_El_R"
   },
   "source": [
    "### Objectives\n",
    "\n",
    "In this tutorial, you learn how to use the Gemini API in Vertex AI with cURL commands to interact with the Gemini 2.0 Flash (`gemini-2.0-flash-001`) model.\n",
    "\n",
    "You will complete the following tasks:\n",
    "\n",
    "- Install the Python SDK.\n",
    "- Use the Gemini API in Vertex AI to interact with each model.\n",
    "  - Gemini 2.0 Flash (`gemini-2.0-flash-001`) model:\n",
    "    - Generate text from text prompts.\n",
    "    - Explore various features and configuration options.\n",
    "    - Generate text from image(s) and text prompts.\n",
    "    - Generate text from video.\n",
    "  "
   ]
  },
  {
   "cell_type": "markdown",
   "metadata": {
    "id": "wJf9sLIIEl_S"
   },
   "source": [
    "### Costs\n",
    "This tutorial uses billable components of Google Cloud:\n",
    "\n",
    "- Vertex AI\n",
    "\n",
    "Learn about [Vertex AI pricing](https://cloud.google.com/vertex-ai/pricing) and use the [Pricing Calculator](https://cloud.google.com/products/calculator/) to generate a cost estimate based on your projected usage."
   ]
  },
  {
   "cell_type": "markdown",
   "metadata": {
    "id": "D50ekWXjEl_S"
   },
   "source": [
    "## Getting Started"
   ]
  },
  {
   "cell_type": "markdown",
   "metadata": {
    "id": "dmWOrTJ3gx13"
   },
   "source": [
    "### Authenticate your notebook environment (Colab only)\n",
    "\n",
    "If you are running this notebook on Google Colab, run the following cell to authenticate your environment.\n",
    "\n",
    "This step is not required if you are using [Vertex AI Workbench](https://cloud.google.com/vertex-ai-workbench)."
   ]
  },
  {
   "cell_type": "code",
   "execution_count": 1,
   "metadata": {
    "id": "NyKGtVQjgx13",
    "tags": []
   },
   "outputs": [],
   "source": [
    "import sys\n",
    "\n",
    "# Additional authentication is required for Google Colab\n",
    "if \"google.colab\" in sys.modules:\n",
    "    # Authenticate user to Google Cloud\n",
    "    from google.colab import auth\n",
    "\n",
    "    auth.authenticate_user()"
   ]
  },
  {
   "cell_type": "markdown",
   "metadata": {
    "id": "O6ZGaZlxP9L0"
   },
   "source": [
    "### Set Google Cloud project\n",
    "\n",
    "To get started using Vertex AI, you must have an existing Google Cloud project and [enable the Vertex AI API](https://console.cloud.google.com/flows/enableapi?apiid=aiplatform.googleapis.com).\n",
    "\n",
    "Learn more about [setting up a project and a development environment](https://cloud.google.com/vertex-ai/docs/start/cloud-environment)."
   ]
  },
  {
   "cell_type": "code",
   "execution_count": 2,
   "metadata": {
    "id": "u8IivOG5SqY6",
    "tags": []
   },
   "outputs": [],
   "source": [
    "PROJECT_ID = \"qwiklabs-gcp-04-11344c7a78ac\"  # @param {type:\"string\"}\n",
    "LOCATION = \"us-east1\"  # @param {type:\"string\"}"
   ]
  },
  {
   "cell_type": "markdown",
   "metadata": {
    "id": "8s84m7h6HSTR"
   },
   "source": [
    "### Defining environment variables for cURL commands\n",
    "\n",
    "These environment variables are used to construct the cURL commands."
   ]
  },
  {
   "cell_type": "code",
   "execution_count": 3,
   "metadata": {
    "id": "krJ8UOHKoPn3",
    "tags": []
   },
   "outputs": [],
   "source": [
    "import os\n",
    "\n",
    "os.environ[\"PROJECT_ID\"] = PROJECT_ID\n",
    "os.environ[\"LOCATION\"] = LOCATION\n",
    "os.environ[\"API_ENDPOINT\"] = f\"{LOCATION}-aiplatform.googleapis.com\""
   ]
  },
  {
   "cell_type": "markdown",
   "metadata": {
    "id": "854fbf388e2b"
   },
   "source": [
    "## Use the Gemini 2.0 Flash model"
   ]
  },
  {
   "cell_type": "code",
   "execution_count": 4,
   "metadata": {
    "id": "7eeb063ac6d4",
    "tags": []
   },
   "outputs": [],
   "source": [
    "os.environ[\"MODEL_ID\"] = \"gemini-2.0-flash-001\""
   ]
  },
  {
   "cell_type": "markdown",
   "metadata": {
    "id": "0ZZUVBSzc0cR"
   },
   "source": [
    "### Generate content\n",
    "\n",
    "The generateContent method can handle a wide variety of use cases, including multi-turn chat and multimodal input, depending on what the underlying model supports. In this example, you send a text prompt using the `generateContent` method."
   ]
  },
  {
   "cell_type": "code",
   "execution_count": 5,
   "metadata": {
    "id": "1979afec8834",
    "tags": []
   },
   "outputs": [
    {
     "name": "stderr",
     "output_type": "stream",
     "text": [
      "  % Total    % Received % Xferd  Average Speed   Time    Time     Time  Current\n",
      "                                 Dload  Upload   Total   Spent    Left  Speed\n",
      "100  2610    0  2509  100   101   1247     50  0:00:02  0:00:02 --:--:--  1297\n"
     ]
    },
    {
     "name": "stdout",
     "output_type": "stream",
     "text": [
      "{\n",
      "  \"candidates\": [\n",
      "    {\n",
      "      \"content\": {\n",
      "        \"role\": \"model\",\n",
      "        \"parts\": [\n",
      "          {\n",
      "            \"text\": \"The sky is blue because of a phenomenon called **Rayleigh scattering**. Here's a breakdown of how it works:\\n\\n*   **Sunlight and its Colors:** Sunlight is actually made up of all the colors of the rainbow. We perceive it as white because they are all mixed together.\\n\\n*   **Entering the Atmosphere:** When sunlight enters the Earth's atmosphere, it collides with tiny air molecules (mostly nitrogen and oxygen).\\n\\n*   **Scattering of Light:** This collision causes the light to scatter in different directions.\\n\\n*   **Rayleigh Scattering and Wavelength:** Rayleigh scattering is more effective at scattering shorter wavelengths of light. Blue and violet light have shorter wavelengths than other colors like red and orange.\\n\\n*   **Why Blue More Than Violet?** While violet light has the shortest wavelength, it is absorbed more in the upper atmosphere and our eyes are also more sensitive to blue than violet. This is why we predominantly see blue light scattered throughout the sky.\\n\\n*   **Sunrise and Sunset:** At sunrise and sunset, the sunlight has to travel through more of the atmosphere to reach our eyes. This means that most of the blue light has already been scattered away, leaving the longer wavelengths like orange and red to dominate, hence the vibrant colors we see.\\n\\n**In summary:**\\n\\nSunlight hits the atmosphere -\\u003e blue light is scattered more than other colors due to its shorter wavelength -\\u003e we see a blue sky.\\n\"\n",
      "          }\n",
      "        ]\n",
      "      },\n",
      "      \"finishReason\": \"STOP\",\n",
      "      \"citationMetadata\": {\n",
      "        \"citations\": [\n",
      "          {\n",
      "            \"startIndex\": 989,\n",
      "            \"endIndex\": 1126,\n",
      "            \"uri\": \"https://github.com/chethanhn29/Large_Language_Models-Pojects\"\n",
      "          },\n",
      "          {\n",
      "            \"startIndex\": 1069,\n",
      "            \"endIndex\": 1214\n",
      "          }\n",
      "        ]\n",
      "      },\n",
      "      \"avgLogprobs\": -0.28052140602191017\n",
      "    }\n",
      "  ],\n",
      "  \"usageMetadata\": {\n",
      "    \"promptTokenCount\": 6,\n",
      "    \"candidatesTokenCount\": 289,\n",
      "    \"totalTokenCount\": 295,\n",
      "    \"trafficType\": \"ON_DEMAND\",\n",
      "    \"promptTokensDetails\": [\n",
      "      {\n",
      "        \"modality\": \"TEXT\",\n",
      "        \"tokenCount\": 6\n",
      "      }\n",
      "    ],\n",
      "    \"candidatesTokensDetails\": [\n",
      "      {\n",
      "        \"modality\": \"TEXT\",\n",
      "        \"tokenCount\": 289\n",
      "      }\n",
      "    ]\n",
      "  },\n",
      "  \"modelVersion\": \"gemini-2.0-flash-001\",\n",
      "  \"createTime\": \"2025-04-19T16:24:22.715348Z\",\n",
      "  \"responseId\": \"Ns4DaNTUK87mwtQP-On0wQM\"\n",
      "}\n"
     ]
    }
   ],
   "source": [
    "%%bash\n",
    "\n",
    "curl -X POST \\\n",
    "  -H \"Authorization: Bearer $(gcloud auth print-access-token)\" \\\n",
    "  -H \"Content-Type: application/json\" \\\n",
    "  https://${API_ENDPOINT}/v1/projects/${PROJECT_ID}/locations/${LOCATION}/publishers/google/models/${MODEL_ID}:generateContent \\\n",
    "  -d '{\n",
    "    \"contents\": {\n",
    "      \"role\": \"USER\",\n",
    "      \"parts\": { \"text\": \"Why is the sky blue?\" }\n",
    "    }\n",
    "  }'\n"
   ]
  },
  {
   "cell_type": "markdown",
   "metadata": {
    "id": "27701e417da6"
   },
   "source": [
    "### Streaming\n",
    "\n",
    "The Gemini API provides a streaming response mechanism. With this approach, you don't need to wait for the complete response; you can start processing fragments as soon as they're accessible."
   ]
  },
  {
   "cell_type": "code",
   "execution_count": 6,
   "metadata": {
    "id": "rzkCij_iS0we",
    "tags": []
   },
   "outputs": [
    {
     "name": "stderr",
     "output_type": "stream",
     "text": [
      "  % Total    % Received % Xferd  Average Speed   Time    Time     Time  Current\n",
      "                                 Dload  Upload   Total   Spent    Left  Speed\n"
     ]
    },
    {
     "name": "stdout",
     "output_type": "stream",
     "text": [
      "[{\n",
      "  \"candidates\": [\n",
      "    {\n",
      "      \"content\": {\n",
      "        \"role\": \"model\",\n",
      "        \"parts\": [\n",
      "          {\n",
      "            \"text\": \"The\"\n",
      "          }\n",
      "        ]\n",
      "      }\n",
      "    }\n",
      "  ],\n",
      "  \"usageMetadata\": {\n",
      "    \"trafficType\": \"ON_DEMAND\"\n",
      "  },\n",
      "  \"modelVersion\": \"gemini-2.0-flash-001\",\n",
      "  \"createTime\": \"2025-04-19T16:24:32.111791Z\",\n",
      "  \"responseId\": \"QM4DaK_pBrrPwtQPx6jKiAY\"\n",
      "}\n",
      ",\n",
      "{\n",
      "  \"candidates\": [\n",
      "    {\n",
      "      \"content\": {\n",
      "        \"role\": \"model\",\n",
      "        \"parts\": [\n",
      "          {\n",
      "            \"text\": \" sky is blue\"\n",
      "          }\n",
      "        ]\n",
      "      }\n",
      "    }\n",
      "  ],\n",
      "  \"usageMetadata\": {\n",
      "    \"trafficType\": \"ON_DEMAND\"\n",
      "  },\n",
      "  \"modelVersion\": \"gemini-2.0-flash-001\",\n",
      "  \"createTime\": \"2025-04-19T16:24:32.111791Z\",\n",
      "  \"responseId\": \"QM4DaK_pBrrPwtQPx6jKiAY\"\n",
      "}\n",
      ",\n",
      "{\n",
      "  \"candidates\": [\n",
      "    {\n",
      "      \"content\": {\n",
      "        \"role\": \"model\",\n",
      "        \"parts\": [\n",
      "          {\n",
      "            \"text\": \" due to a phenomenon called **Rayleigh scattering**. Here's the breakdown:\\n\\n*\"\n",
      "          }\n",
      "        ]\n",
      "      }\n",
      "    }\n",
      "  ],\n",
      "  \"usageMetadata\": {\n",
      "    \"trafficType\": \"ON_DEMAND\"\n",
      "  },\n",
      "  \"modelVersion\": \"gemini-2.0-flash-001\",\n",
      "  \"createTime\": \"2025-04-19T16:24:32.111791Z\",\n",
      "  \"responseId\": \"QM4DaK_pBrrPwtQPx6jKiAY\"\n",
      "}\n",
      ",\n",
      "{\n",
      "  \"candidates\": [\n",
      "    {\n",
      "      \"content\": {\n",
      "        \"role\": \"model\",\n",
      "        \"parts\": [\n",
      "          {\n",
      "            \"text\": \"   **Sunlight is made of all colors:** White sunlight is actually a mixture\"\n",
      "          }\n",
      "        ]\n",
      "      }\n",
      "    }\n",
      "  ],\n",
      "  \"usageMetadata\": {\n",
      "    \"trafficType\": \"ON_DEMAND\"\n",
      "  },\n",
      "  \"modelVersion\": \"gemini-2.0-flash-001\",\n",
      "  \"createTime\": \"2025-04-19T16:24:32.111791Z\",\n",
      "  \"responseId\": \"QM4DaK_pBrrPwtQPx6jKiAY\"\n",
      "}\n",
      ",\n",
      "{\n",
      "  \"candidates\": [\n",
      "    {\n",
      "      \"content\": {\n",
      "        \"role\": \"model\",\n",
      "        \"parts\": [\n",
      "          {\n",
      "            \"text\": \" of all the colors of the rainbow (red, orange, yellow, green, blue, indigo, violet).\\n\\n*   **The atmosphere contains tiny particles:** The Earth\"\n",
      "          }\n",
      "        ]\n",
      "      }\n",
      "    }\n",
      "  ],\n",
      "  \"usageMetadata\": {\n",
      "    \"trafficType\": \"ON_DEMAND\"\n",
      "  },\n",
      "  \"modelVersion\": \"gemini-2.0-flash-001\",\n",
      "  \"createTime\": \"2025-04-19T16:24:32.111791Z\",\n",
      "  \"responseId\": \"QM4DaK_pBrrPwtQPx6jKiAY\"\n",
      "}\n",
      ",\n",
      "{\n",
      "  \"candidates\": [\n",
      "    {\n",
      "      \"content\": {\n",
      "        \"role\": \"model\",\n",
      "        \"parts\": [\n",
      "          {\n",
      "            \"text\": \"'s atmosphere is filled with tiny particles of air molecules (mostly nitrogen and oxygen), dust, water droplets, and other small particles.\\n\\n*   **Scattering happens\"\n",
      "          }\n",
      "        ]\n",
      "      }\n",
      "    }\n",
      "  ],\n",
      "  \"usageMetadata\": {\n",
      "    \"trafficType\": \"ON_DEMAND\"\n",
      "  },\n",
      "  \"modelVersion\": \"gemini-2.0-flash-001\",\n",
      "  \"createTime\": \"2025-04-19T16:24:32.111791Z\",\n",
      "  \"responseId\": \"QM4DaK_pBrrPwtQPx6jKiAY\"\n",
      "}\n",
      ",\n",
      "{\n",
      "  \"candidates\": [\n",
      "    {\n",
      "      \"content\": {\n",
      "        \"role\": \"model\",\n",
      "        \"parts\": [\n",
      "          {\n",
      "            \"text\": \":** When sunlight enters the atmosphere, it collides with these particles. This collision causes the light to be scattered in different directions.\\n\\n*   **Blue light is scattered more:** Rayleigh scattering is more effective at scattering shorter wavelengths of light. Blue and\"\n",
      "          }\n",
      "        ]\n",
      "      }\n",
      "    }\n",
      "  ],\n",
      "  \"usageMetadata\": {\n",
      "    \"trafficType\": \"ON_DEMAND\"\n",
      "  },\n",
      "  \"modelVersion\": \"gemini-2.0-flash-001\",\n",
      "  \"createTime\": \"2025-04-19T16:24:32.111791Z\",\n",
      "  \"responseId\": \"QM4DaK_pBrrPwtQPx6jKiAY\"\n",
      "}\n",
      ",\n",
      "{\n",
      "  \"candidates\": [\n",
      "    {\n",
      "      \"content\": {\n",
      "        \"role\": \"model\",\n",
      "        \"parts\": [\n",
      "          {\n",
      "            \"text\": \" violet light have the shortest wavelengths of visible light.\\n\\n*   **Why not violet?** While violet light is scattered even more than blue, the sun emits slightly less violet light, and our eyes are also less sensitive to violet. This is\"\n",
      "          }\n",
      "        ]\n",
      "      }\n",
      "    }\n",
      "  ],\n",
      "  \"usageMetadata\": {\n",
      "    \"trafficType\": \"ON_DEMAND\"\n",
      "  },\n",
      "  \"modelVersion\": \"gemini-2.0-flash-001\",\n",
      "  \"createTime\": \"2025-04-19T16:24:32.111791Z\",\n",
      "  \"responseId\": \"QM4DaK_pBrrPwtQPx6jKiAY\"\n",
      "}\n",
      ",\n",
      "{\n",
      "  \"candidates\": [\n",
      "    {\n",
      "      \"content\": {\n",
      "        \"role\": \"model\",\n",
      "        \"parts\": [\n",
      "          {\n"
     ]
    },
    {
     "name": "stderr",
     "output_type": "stream",
     "text": [
      "100  5421    0  5320  100   101   2775     52  0:00:01  0:00:01 --:--:--  2826\n"
     ]
    },
    {
     "name": "stdout",
     "output_type": "stream",
     "text": [
      "            \"text\": \" why we perceive the sky as blue rather than violet.\\n\\n*   **The result:** Because blue light is scattered more effectively than other colors, it is spread all over the sky. When you look up, you see the blue light that has been scattered in your direction.\\n\\n**In summary, the sky is blue because\"\n",
      "          }\n",
      "        ]\n",
      "      }\n",
      "    }\n",
      "  ],\n",
      "  \"usageMetadata\": {\n",
      "    \"trafficType\": \"ON_DEMAND\"\n",
      "  },\n",
      "  \"modelVersion\": \"gemini-2.0-flash-001\",\n",
      "  \"createTime\": \"2025-04-19T16:24:32.111791Z\",\n",
      "  \"responseId\": \"QM4DaK_pBrrPwtQPx6jKiAY\"\n",
      "}\n",
      ",\n",
      "{\n",
      "  \"candidates\": [\n",
      "    {\n",
      "      \"content\": {\n",
      "        \"role\": \"model\",\n",
      "        \"parts\": [\n",
      "          {\n",
      "            \"text\": \" blue light is scattered more than other colors in sunlight when it passes through the Earth's atmosphere.**\\n\"\n",
      "          }\n",
      "        ]\n",
      "      },\n",
      "      \"finishReason\": \"STOP\"\n",
      "    }\n",
      "  ],\n",
      "  \"usageMetadata\": {\n",
      "    \"promptTokenCount\": 6,\n",
      "    \"candidatesTokenCount\": 290,\n",
      "    \"totalTokenCount\": 296,\n",
      "    \"trafficType\": \"ON_DEMAND\",\n",
      "    \"promptTokensDetails\": [\n",
      "      {\n",
      "        \"modality\": \"TEXT\",\n",
      "        \"tokenCount\": 6\n",
      "      }\n",
      "    ],\n",
      "    \"candidatesTokensDetails\": [\n",
      "      {\n",
      "        \"modality\": \"TEXT\",\n",
      "        \"tokenCount\": 290\n",
      "      }\n",
      "    ]\n",
      "  },\n",
      "  \"modelVersion\": \"gemini-2.0-flash-001\",\n",
      "  \"createTime\": \"2025-04-19T16:24:32.111791Z\",\n",
      "  \"responseId\": \"QM4DaK_pBrrPwtQPx6jKiAY\"\n",
      "}\n",
      "]"
     ]
    }
   ],
   "source": [
    "%%bash\n",
    "\n",
    "curl -X POST \\\n",
    "  -H \"Authorization: Bearer $(gcloud auth print-access-token)\" \\\n",
    "  -H \"Content-Type: application/json\" \\\n",
    "  https://${API_ENDPOINT}/v1/projects/${PROJECT_ID}/locations/${LOCATION}/publishers/google/models/${MODEL_ID}:streamGenerateContent \\\n",
    "  -d '{\n",
    "    \"contents\": {\n",
    "      \"role\": \"USER\",\n",
    "      \"parts\": { \"text\": \"Why is the sky blue?\" }\n",
    "    }\n",
    "  }'\n"
   ]
  },
  {
   "cell_type": "markdown",
   "metadata": {
    "id": "3e56BV7PH9t8"
   },
   "source": [
    "### Model parameters\n",
    "\n",
    "Every prompt you send to the model includes parameter values that control how the model generates a response. The model can generate different results for different parameter values. You can experiment with different model parameters to see how the results change. "
   ]
  },
  {
   "cell_type": "code",
   "execution_count": 7,
   "metadata": {
    "id": "Px8hSHhiH9t8",
    "tags": []
   },
   "outputs": [
    {
     "name": "stderr",
     "output_type": "stream",
     "text": [
      "  % Total    % Received % Xferd  Average Speed   Time    Time     Time  Current\n",
      "                                 Dload  Upload   Total   Spent    Left  Speed\n",
      "100  3441    0  2838  100   603   1185    251  0:00:02  0:00:02 --:--:--  1437\n"
     ]
    },
    {
     "name": "stdout",
     "output_type": "stream",
     "text": [
      "{\n",
      "  \"candidates\": [\n",
      "    {\n",
      "      \"content\": {\n",
      "        \"role\": \"model\",\n",
      "        \"parts\": [\n",
      "          {\n",
      "            \"text\": \"Here's a description of the image:\\n\\n**Overall Impression:**\\n\\nThe image shows a tabby cat standing in the snow. The cat is the main subject and is in focus, while the snowy background is slightly blurred.\\n\\n**Cat's Appearance:**\\n\\n*   **Coat:** The cat has a classic tabby coat pattern, with dark brown or black stripes on a lighter brown background.\\n*   **Eyes:** The cat has yellow or golden eyes.\\n*   **Pose:** The cat is standing with one paw slightly raised, as if it's about to take a step. It's looking directly at the viewer with a curious or alert expression.\\n*   **Build:** The cat appears to be of average size and build.\\n\\n**Background:**\\n\\n*   The background is entirely snow-covered.\\n*   There are some tracks or indentations in the snow, suggesting that something has moved through the area.\\n*   The background is out of focus, which helps to emphasize the cat as the main subject.\\n\\n**Overall Tone:**\\n\\nThe image has a natural and slightly cold feel due to the snowy environment. The cat's alert expression adds a touch of curiosity and liveliness to the scene.\"\n",
      "          }\n",
      "        ]\n",
      "      },\n",
      "      \"finishReason\": \"STOP\",\n",
      "      \"safetyRatings\": [\n",
      "        {\n",
      "          \"category\": \"HARM_CATEGORY_HATE_SPEECH\",\n",
      "          \"probability\": \"NEGLIGIBLE\",\n",
      "          \"probabilityScore\": 4.5969966e-05,\n",
      "          \"severity\": \"HARM_SEVERITY_NEGLIGIBLE\",\n",
      "          \"severityScore\": 0.05651769\n",
      "        },\n",
      "        {\n",
      "          \"category\": \"HARM_CATEGORY_DANGEROUS_CONTENT\",\n",
      "          \"probability\": \"NEGLIGIBLE\",\n",
      "          \"probabilityScore\": 0.00049932796,\n",
      "          \"severity\": \"HARM_SEVERITY_NEGLIGIBLE\"\n",
      "        },\n",
      "        {\n",
      "          \"category\": \"HARM_CATEGORY_HARASSMENT\",\n",
      "          \"probability\": \"NEGLIGIBLE\",\n",
      "          \"probabilityScore\": 6.0551716e-05,\n",
      "          \"severity\": \"HARM_SEVERITY_NEGLIGIBLE\",\n",
      "          \"severityScore\": 0.035572063\n",
      "        },\n",
      "        {\n",
      "          \"category\": \"HARM_CATEGORY_SEXUALLY_EXPLICIT\",\n",
      "          \"probability\": \"NEGLIGIBLE\",\n",
      "          \"probabilityScore\": 1.7751005e-05,\n",
      "          \"severity\": \"HARM_SEVERITY_NEGLIGIBLE\"\n",
      "        }\n",
      "      ],\n",
      "      \"avgLogprobs\": -0.21646958923339843\n",
      "    }\n",
      "  ],\n",
      "  \"usageMetadata\": {\n",
      "    \"promptTokenCount\": 261,\n",
      "    \"candidatesTokenCount\": 250,\n",
      "    \"totalTokenCount\": 511,\n",
      "    \"trafficType\": \"ON_DEMAND\",\n",
      "    \"promptTokensDetails\": [\n",
      "      {\n",
      "        \"modality\": \"IMAGE\",\n",
      "        \"tokenCount\": 258\n",
      "      },\n",
      "      {\n",
      "        \"modality\": \"TEXT\",\n",
      "        \"tokenCount\": 3\n",
      "      }\n",
      "    ],\n",
      "    \"candidatesTokensDetails\": [\n",
      "      {\n",
      "        \"modality\": \"TEXT\",\n",
      "        \"tokenCount\": 250\n",
      "      }\n",
      "    ]\n",
      "  },\n",
      "  \"modelVersion\": \"gemini-2.0-flash-001\",\n",
      "  \"createTime\": \"2025-04-19T16:24:40.720883Z\",\n",
      "  \"responseId\": \"SM4DaPP_K7rPwtQPx6jKiAY\"\n",
      "}\n"
     ]
    }
   ],
   "source": [
    "%%bash\n",
    "\n",
    "curl -X POST \\\n",
    "  -H \"Authorization: Bearer $(gcloud auth print-access-token)\" \\\n",
    "  -H \"Content-Type: application/json\" \\\n",
    "  https://${API_ENDPOINT}/v1/projects/${PROJECT_ID}/locations/${LOCATION}/publishers/google/models/${MODEL_ID}:generateContent \\\n",
    "  -d '{\n",
    "    \"contents\": {\n",
    "      \"role\": \"USER\",\n",
    "      \"parts\": [\n",
    "        {\"text\": \"Describe this image\"},\n",
    "        {\"file_data\": {\n",
    "          \"mime_type\": \"image/png\",\n",
    "          \"file_uri\": \"gs://cloud-samples-data/generative-ai/image/320px-Felis_catus-cat_on_snow.jpg\"\n",
    "        }}\n",
    "      ]\n",
    "    },\n",
    "    \"generation_config\": {\n",
    "      \"temperature\": 0.2,\n",
    "      \"top_p\": 0.1,\n",
    "      \"top_k\": 16,\n",
    "      \"max_output_tokens\": 2048,\n",
    "      \"candidate_count\": 1,\n",
    "      \"stop_sequences\": []\n",
    "    },\n",
    "    \"safety_settings\": {\n",
    "      \"category\": \"HARM_CATEGORY_SEXUALLY_EXPLICIT\",\n",
    "      \"threshold\": \"BLOCK_LOW_AND_ABOVE\"\n",
    "    }\n",
    "  }'\n"
   ]
  },
  {
   "cell_type": "markdown",
   "metadata": {
    "id": "I4-XhmPn_Pb-"
   },
   "source": [
    "### Chat\n",
    "\n",
    "The Gemini API supports natural multi-turn conversations and is ideal for text tasks that require back-and-forth interactions.\n",
    "\n",
    "Specify the `role` field only if the content represents a turn in a conversation. You can set `role` to one of the following values: `user`, `model`."
   ]
  },
  {
   "cell_type": "code",
   "execution_count": 8,
   "metadata": {
    "id": "YqSQSK-K-KVU",
    "tags": []
   },
   "outputs": [
    {
     "name": "stderr",
     "output_type": "stream",
     "text": [
      "  % Total    % Received % Xferd  Average Speed   Time    Time     Time  Current\n",
      "                                 Dload  Upload   Total   Spent    Left  Speed\n",
      "100  2187    0  1789  100   398   1089    242  0:00:01  0:00:01 --:--:--  1331\n"
     ]
    },
    {
     "name": "stdout",
     "output_type": "stream",
     "text": [
      "{\n",
      "  \"candidates\": [\n",
      "    {\n",
      "      \"content\": {\n",
      "        \"role\": \"model\",\n",
      "        \"parts\": [\n",
      "          {\n",
      "            \"text\": \"Alright, let's get down to business. Since we haven't established a specific project or purpose, let's figure that out first. Here are a few options we could explore:\\n\\n1.  **Brainstorm a Project:** We could use this session to brainstorm ideas for a project we could collaborate on. This could be anything from writing a story or creating a game to planning a real-world event or developing a piece of software.\\n\\n2.  **Practice a Skill:** If you have a skill you want to practice (like writing, coding, problem-solving, etc.), we could use this session to work on it together.\\n\\n3.  **Learn Something New:** We could pick a topic and learn about it together, discussing what we find and asking questions.\\n\\n4.  **Solve a Puzzle/Challenge:** I can present you with a puzzle, riddle, or challenge that we can work on together.\\n\\n5.  **Just Chat:** We could simply have a conversation about any topic you like.\\n\\nWhich of these sounds most appealing to you, or do you have another idea in mind? Let me know what you'd prefer, and we can go from there.\\n\"\n",
      "          }\n",
      "        ]\n",
      "      },\n",
      "      \"finishReason\": \"STOP\",\n",
      "      \"avgLogprobs\": -0.4820334271686833\n",
      "    }\n",
      "  ],\n",
      "  \"usageMetadata\": {\n",
      "    \"promptTokenCount\": 21,\n",
      "    \"candidatesTokenCount\": 246,\n",
      "    \"totalTokenCount\": 267,\n",
      "    \"trafficType\": \"ON_DEMAND\",\n",
      "    \"promptTokensDetails\": [\n",
      "      {\n",
      "        \"modality\": \"TEXT\",\n",
      "        \"tokenCount\": 21\n",
      "      }\n",
      "    ],\n",
      "    \"candidatesTokensDetails\": [\n",
      "      {\n",
      "        \"modality\": \"TEXT\",\n",
      "        \"tokenCount\": 246\n",
      "      }\n",
      "    ]\n",
      "  },\n",
      "  \"modelVersion\": \"gemini-2.0-flash-001\",\n",
      "  \"createTime\": \"2025-04-19T16:24:53.876622Z\",\n",
      "  \"responseId\": \"Vc4DaM7ANbG5u7APxbrjmQk\"\n",
      "}\n"
     ]
    }
   ],
   "source": [
    "%%bash\n",
    "\n",
    "curl -X POST \\\n",
    "  -H \"Authorization: Bearer $(gcloud auth print-access-token)\" \\\n",
    "  -H \"Content-Type: application/json\" \\\n",
    "  https://${API_ENDPOINT}/v1/projects/${PROJECT_ID}/locations/${LOCATION}/publishers/google/models/${MODEL_ID}:generateContent \\\n",
    "  -d '{\n",
    "    \"contents\": [\n",
    "      {\n",
    "        \"role\": \"user\",\n",
    "        \"parts\": [\n",
    "          { \"text\": \"Hello\" }\n",
    "        ]\n",
    "      },\n",
    "      {\n",
    "        \"role\": \"model\",\n",
    "        \"parts\": [\n",
    "          { \"text\": \"Hello! I am glad you could both make it.\" }\n",
    "        ]\n",
    "      },\n",
    "      {\n",
    "        \"role\": \"user\",\n",
    "        \"parts\": [\n",
    "          { \"text\": \"So what is the first order of business?\" }\n",
    "        ]\n",
    "      }\n",
    "    ]\n",
    "  }'"
   ]
  },
  {
   "cell_type": "markdown",
   "metadata": {
    "id": "5f0f5fe3b331"
   },
   "source": [
    "### Function calling\n",
    "\n",
    "Function calling lets you create a description of a function in their code, then pass that description to a language model in a request. This sample is an example of passing in a description of a function that returns information about where a movie is playing. Several function declarations are included in the request, such as `find_movies` and `find_theaters`.\n",
    "\n",
    "Learn more about [function calling](https://cloud.google.com/vertex-ai/docs/generative-ai/multimodal/function-calling)."
   ]
  },
  {
   "cell_type": "code",
   "execution_count": 9,
   "metadata": {
    "id": "680b11b0ba4c",
    "tags": []
   },
   "outputs": [
    {
     "name": "stderr",
     "output_type": "stream",
     "text": [
      "  % Total    % Received % Xferd  Average Speed   Time    Time     Time  Current\n",
      "                                 Dload  Upload   Total   Spent    Left  Speed\n",
      "100  3479    0   916  100  2563   2223   6220 --:--:-- --:--:-- --:--:--  8444\n"
     ]
    },
    {
     "name": "stdout",
     "output_type": "stream",
     "text": [
      "{\n",
      "  \"candidates\": [\n",
      "    {\n",
      "      \"content\": {\n",
      "        \"role\": \"model\",\n",
      "        \"parts\": [\n",
      "          {\n",
      "            \"functionCall\": {\n",
      "              \"name\": \"find_theaters\",\n",
      "              \"args\": {\n",
      "                \"movie\": \"Barbie\",\n",
      "                \"location\": \"Mountain View, CA\"\n",
      "              }\n",
      "            }\n",
      "          }\n",
      "        ]\n",
      "      },\n",
      "      \"finishReason\": \"STOP\",\n",
      "      \"avgLogprobs\": -0.025156281211159447\n",
      "    }\n",
      "  ],\n",
      "  \"usageMetadata\": {\n",
      "    \"promptTokenCount\": 191,\n",
      "    \"candidatesTokenCount\": 11,\n",
      "    \"totalTokenCount\": 202,\n",
      "    \"trafficType\": \"ON_DEMAND\",\n",
      "    \"promptTokensDetails\": [\n",
      "      {\n",
      "        \"modality\": \"TEXT\",\n",
      "        \"tokenCount\": 191\n",
      "      }\n",
      "    ],\n",
      "    \"candidatesTokensDetails\": [\n",
      "      {\n",
      "        \"modality\": \"TEXT\",\n",
      "        \"tokenCount\": 11\n",
      "      }\n",
      "    ]\n",
      "  },\n",
      "  \"modelVersion\": \"gemini-2.0-flash-001\",\n",
      "  \"createTime\": \"2025-04-19T16:24:56.488479Z\",\n",
      "  \"responseId\": \"WM4DaJ_oHbG5u7APxbrjmQk\"\n",
      "}\n"
     ]
    }
   ],
   "source": [
    "%%bash\n",
    "\n",
    "curl -X POST \\\n",
    "  -H \"Authorization: Bearer $(gcloud auth print-access-token)\" \\\n",
    "  -H \"Content-Type: application/json\" \\\n",
    "  https://${API_ENDPOINT}/v1beta1/projects/${PROJECT_ID}/locations/${LOCATION}/publishers/google/models/${MODEL_ID}:generateContent \\\n",
    "  -d '{\n",
    "  \"contents\": {\n",
    "    \"role\": \"user\",\n",
    "    \"parts\": {\n",
    "      \"text\": \"Which theaters in Mountain View show Barbie movie?\"\n",
    "    }\n",
    "  },\n",
    "  \"tools\": [\n",
    "    {\n",
    "      \"function_declarations\": [\n",
    "        {\n",
    "          \"name\": \"find_movies\",\n",
    "          \"description\": \"find movie titles currently playing in theaters based on any description, genre, title words, etc.\",\n",
    "          \"parameters\": {\n",
    "            \"type\": \"object\",\n",
    "            \"properties\": {\n",
    "              \"location\": {\n",
    "                \"type\": \"string\",\n",
    "                \"description\": \"The city and state, e.g. San Francisco, CA or a zip code e.g. 95616\"\n",
    "              },\n",
    "              \"description\": {\n",
    "                \"type\": \"string\",\n",
    "                \"description\": \"Any kind of description including category or genre, title words, attributes, etc.\"\n",
    "              }\n",
    "            },\n",
    "            \"required\": [\n",
    "              \"description\"\n",
    "            ]\n",
    "          }\n",
    "        },\n",
    "        {\n",
    "          \"name\": \"find_theaters\",\n",
    "          \"description\": \"find theaters based on location and optionally movie title which are is currently playing in theaters\",\n",
    "          \"parameters\": {\n",
    "            \"type\": \"object\",\n",
    "            \"properties\": {\n",
    "              \"location\": {\n",
    "                \"type\": \"string\",\n",
    "                \"description\": \"The city and state, e.g. San Francisco, CA or a zip code e.g. 95616\"\n",
    "              },\n",
    "              \"movie\": {\n",
    "                \"type\": \"string\",\n",
    "                \"description\": \"Any movie title\"\n",
    "              }\n",
    "            },\n",
    "            \"required\": [\n",
    "              \"location\"\n",
    "            ]\n",
    "          }\n",
    "        },\n",
    "        {\n",
    "          \"name\": \"get_showtimes\",\n",
    "          \"description\": \"Find the start times for movies playing in a specific theater\",\n",
    "          \"parameters\": {\n",
    "            \"type\": \"object\",\n",
    "            \"properties\": {\n",
    "              \"location\": {\n",
    "                \"type\": \"string\",\n",
    "                \"description\": \"The city and state, e.g. San Francisco, CA or a zip code e.g. 95616\"\n",
    "              },\n",
    "              \"movie\": {\n",
    "                \"type\": \"string\",\n",
    "                \"description\": \"Any movie title\"\n",
    "              },\n",
    "              \"theater\": {\n",
    "                \"type\": \"string\",\n",
    "                \"description\": \"Name of theater\"\n",
    "              },\n",
    "              \"date\": {\n",
    "                \"type\": \"string\",\n",
    "                \"description\": \"Date for requested showtime\"\n",
    "              }\n",
    "            },\n",
    "            \"required\": [\n",
    "              \"location\",\n",
    "              \"movie\",\n",
    "              \"theater\",\n",
    "              \"date\"\n",
    "            ]\n",
    "          }\n",
    "        }\n",
    "      ]\n",
    "    }\n",
    "  ]\n",
    "}'"
   ]
  },
  {
   "cell_type": "markdown",
   "metadata": {
    "id": "R3g5n23lDtsN"
   },
   "source": [
    "## Multimodal input\n",
    "\n",
    "The Gemini 2.0 Flash  (`gemini-2.0-flash-001`) is a multimodal model that supports adding image and video in text or chat prompts for a text response.\n"
   ]
  },
  {
   "cell_type": "markdown",
   "metadata": {
    "id": "uTfL2DDch4Lp"
   },
   "source": [
    "### Download an image from Google Cloud Storage"
   ]
  },
  {
   "cell_type": "code",
   "execution_count": 10,
   "metadata": {
    "id": "KmtWSNLtJ7oD",
    "tags": []
   },
   "outputs": [
    {
     "name": "stdout",
     "output_type": "stream",
     "text": [
      "Copying gs://cloud-samples-data/generative-ai/image/320px-Felis_catus-cat_on_snow.jpg...\n",
      "/ [1 files][ 17.4 KiB/ 17.4 KiB]                                                \n",
      "Operation completed over 1 objects/17.4 KiB.                                     \n"
     ]
    }
   ],
   "source": [
    "! gsutil cp \"gs://cloud-samples-data/generative-ai/image/320px-Felis_catus-cat_on_snow.jpg\" ./image.jpg"
   ]
  },
  {
   "cell_type": "markdown",
   "metadata": {
    "id": "BlyyaPgmhpyv"
   },
   "source": [
    "### Generate text from a local image\n",
    "\n",
    "Specify the [base64](https://en.wikipedia.org/wiki/Base64) encoding of the image or video to include inline in the prompt and the `mime_type` field. The supported [MIME types](https://en.wikipedia.org/wiki/Media_type) for images include `image/png` and `image/jpeg`."
   ]
  },
  {
   "cell_type": "code",
   "execution_count": 11,
   "metadata": {
    "id": "-uqZ-RWdtdit",
    "tags": []
   },
   "outputs": [
    {
     "name": "stderr",
     "output_type": "stream",
     "text": [
      "  % Total    % Received % Xferd  Average Speed   Time    Time     Time  Current\n",
      "                                 Dload  Upload   Total   Spent    Left  Speed\n",
      "100 24976    0   882  100 24094    997  27255 --:--:-- --:--:-- --:--:-- 28221\n"
     ]
    },
    {
     "name": "stdout",
     "output_type": "stream",
     "text": [
      "{\n",
      "  \"candidates\": [\n",
      "    {\n",
      "      \"content\": {\n",
      "        \"role\": \"model\",\n",
      "        \"parts\": [\n",
      "          {\n",
      "            \"text\": \"Yes, the image shows a cat. It appears to be a tabby cat standing in the snow.\\n\"\n",
      "          }\n",
      "        ]\n",
      "      },\n",
      "      \"finishReason\": \"STOP\",\n",
      "      \"avgLogprobs\": -0.19682922817411877\n",
      "    }\n",
      "  ],\n",
      "  \"usageMetadata\": {\n",
      "    \"promptTokenCount\": 263,\n",
      "    \"candidatesTokenCount\": 21,\n",
      "    \"totalTokenCount\": 284,\n",
      "    \"trafficType\": \"ON_DEMAND\",\n",
      "    \"promptTokensDetails\": [\n",
      "      {\n",
      "        \"modality\": \"TEXT\",\n",
      "        \"tokenCount\": 5\n",
      "      },\n",
      "      {\n",
      "        \"modality\": \"IMAGE\",\n",
      "        \"tokenCount\": 258\n",
      "      }\n",
      "    ],\n",
      "    \"candidatesTokensDetails\": [\n",
      "      {\n",
      "        \"modality\": \"TEXT\",\n",
      "        \"tokenCount\": 21\n",
      "      }\n",
      "    ]\n",
      "  },\n",
      "  \"modelVersion\": \"gemini-2.0-flash-001\",\n",
      "  \"createTime\": \"2025-04-19T16:25:00.861209Z\",\n",
      "  \"responseId\": \"XM4DaJnINM7mwtQP-On0wQM\"\n",
      "}\n"
     ]
    }
   ],
   "source": [
    "%%bash\n",
    "\n",
    "# Encode image data in base64\n",
    "# NOTE: This command only works on Linux.\n",
    "data=$(base64 -w 0 image.jpg)\n",
    "\n",
    "curl -X POST \\\n",
    "  -H \"Authorization: Bearer $(gcloud auth print-access-token)\" \\\n",
    "  -H \"Content-Type: application/json\" \\\n",
    "  https://${API_ENDPOINT}/v1/projects/${PROJECT_ID}/locations/${LOCATION}/publishers/google/models/${MODEL_ID}:generateContent \\\n",
    "  -d \"{\n",
    "      'contents': {\n",
    "        'role': 'USER',\n",
    "        'parts': [\n",
    "          {\n",
    "            'text': 'Is it a cat?'\n",
    "          },\n",
    "          {\n",
    "            'inline_data': {\n",
    "              'data': '${data}',\n",
    "              'mime_type':'image/jpeg'\n",
    "            }\n",
    "          }\n",
    "        ]\n",
    "       }\n",
    "     }\""
   ]
  },
  {
   "cell_type": "markdown",
   "metadata": {
    "id": "fKr-BklmhjgP"
   },
   "source": [
    "### Generate text from an image on Google Cloud Storage\n",
    "\n",
    "Specify the Cloud Storage URI of the image to include in the prompt. The bucket that stores the file must be in the same Google Cloud project that's sending the request. You must also specify the `mime_type` field. The supported image MIME types include `image/png` and `image/jpeg`."
   ]
  },
  {
   "cell_type": "code",
   "execution_count": 12,
   "metadata": {
    "id": "43pQE3_z3OjG",
    "tags": []
   },
   "outputs": [
    {
     "name": "stderr",
     "output_type": "stream",
     "text": [
      "  % Total    % Received % Xferd  Average Speed   Time    Time     Time  Current\n",
      "                                 Dload  Upload   Total   Spent    Left  Speed\n",
      "100  3504    0  2855  100   649   1104    250  0:00:02  0:00:02 --:--:--  1354\n"
     ]
    },
    {
     "name": "stdout",
     "output_type": "stream",
     "text": [
      "{\n",
      "  \"candidates\": [\n",
      "    {\n",
      "      \"content\": {\n",
      "        \"role\": \"model\",\n",
      "        \"parts\": [\n",
      "          {\n",
      "            \"text\": \"Here's a description of the image:\\n\\n**Overall Impression:**\\n\\nThe image shows a tabby cat standing in a snowy environment. The cat is the main subject and is in focus, while the background is a blur of white snow.\\n\\n**Cat Details:**\\n\\n*   **Coat:** The cat has a classic tabby coat pattern, with dark brown or black stripes on a lighter brown background.\\n*   **Eyes:** The cat has yellow or golden eyes.\\n*   **Pose:** The cat is standing with one paw slightly raised, as if it's about to take a step. It's looking directly at the camera with a curious or alert expression.\\n*   **Build:** The cat appears to be of average build, not overly thin or overweight.\\n\\n**Background:**\\n\\n*   The background is entirely snow-covered. There are some subtle variations in the snow's texture, suggesting footprints or other disturbances.\\n*   The background is out of focus, which helps to emphasize the cat as the main subject.\\n\\n**Overall Tone:**\\n\\nThe image has a natural and slightly cold feel due to the snowy environment. The cat's alert expression adds a touch of curiosity and liveliness to the scene.\"\n",
      "          }\n",
      "        ]\n",
      "      },\n",
      "      \"finishReason\": \"STOP\",\n",
      "      \"safetyRatings\": [\n",
      "        {\n",
      "          \"category\": \"HARM_CATEGORY_HATE_SPEECH\",\n",
      "          \"probability\": \"NEGLIGIBLE\",\n",
      "          \"probabilityScore\": 3.004989e-05,\n",
      "          \"severity\": \"HARM_SEVERITY_NEGLIGIBLE\",\n",
      "          \"severityScore\": 0.050032675\n",
      "        },\n",
      "        {\n",
      "          \"category\": \"HARM_CATEGORY_DANGEROUS_CONTENT\",\n",
      "          \"probability\": \"NEGLIGIBLE\",\n",
      "          \"probabilityScore\": 0.00029752046,\n",
      "          \"severity\": \"HARM_SEVERITY_NEGLIGIBLE\"\n",
      "        },\n",
      "        {\n",
      "          \"category\": \"HARM_CATEGORY_HARASSMENT\",\n",
      "          \"probability\": \"NEGLIGIBLE\",\n",
      "          \"probabilityScore\": 3.293895e-05,\n",
      "          \"severity\": \"HARM_SEVERITY_NEGLIGIBLE\",\n",
      "          \"severityScore\": 0.021136705\n",
      "        },\n",
      "        {\n",
      "          \"category\": \"HARM_CATEGORY_SEXUALLY_EXPLICIT\",\n",
      "          \"probability\": \"NEGLIGIBLE\",\n",
      "          \"probabilityScore\": 1.01153555e-05,\n",
      "          \"severity\": \"HARM_SEVERITY_NEGLIGIBLE\"\n",
      "        }\n",
      "      ],\n",
      "      \"avgLogprobs\": -0.24356434631347657\n",
      "    }\n",
      "  ],\n",
      "  \"usageMetadata\": {\n",
      "    \"promptTokenCount\": 261,\n",
      "    \"candidatesTokenCount\": 250,\n",
      "    \"totalTokenCount\": 511,\n",
      "    \"trafficType\": \"ON_DEMAND\",\n",
      "    \"promptTokensDetails\": [\n",
      "      {\n",
      "        \"modality\": \"TEXT\",\n",
      "        \"tokenCount\": 3\n",
      "      },\n",
      "      {\n",
      "        \"modality\": \"IMAGE\",\n",
      "        \"tokenCount\": 258\n",
      "      }\n",
      "    ],\n",
      "    \"candidatesTokensDetails\": [\n",
      "      {\n",
      "        \"modality\": \"TEXT\",\n",
      "        \"tokenCount\": 250\n",
      "      }\n",
      "    ]\n",
      "  },\n",
      "  \"modelVersion\": \"gemini-2.0-flash-001\",\n",
      "  \"createTime\": \"2025-04-19T16:25:04.665944Z\",\n",
      "  \"responseId\": \"YM4DaNjSKLG5u7APxbrjmQk\"\n",
      "}\n"
     ]
    }
   ],
   "source": [
    "%%bash\n",
    "\n",
    "MODEL_ID=\"gemini-2.0-flash-001\"\n",
    "\n",
    "curl -X POST \\\n",
    "  -H \"Authorization: Bearer $(gcloud auth print-access-token)\" \\\n",
    "  -H \"Content-Type: application/json\" \\\n",
    "  https://${API_ENDPOINT}/v1/projects/${PROJECT_ID}/locations/${LOCATION}/publishers/google/models/${MODEL_ID}:generateContent \\\n",
    "  -d '{\n",
    "    \"contents\": {\n",
    "      \"role\": \"USER\",\n",
    "      \"parts\": [\n",
    "        {\n",
    "          \"text\": \"Describe this image\"\n",
    "        },\n",
    "        {\n",
    "          \"file_data\": {\n",
    "            \"mime_type\": \"image/png\",\n",
    "            \"file_uri\": \"gs://cloud-samples-data/generative-ai/image/320px-Felis_catus-cat_on_snow.jpg\"\n",
    "          }\n",
    "        }\n",
    "      ]\n",
    "    },\n",
    "    \"generation_config\": {\n",
    "      \"temperature\": 0.2,\n",
    "      \"top_p\": 0.1,\n",
    "      \"top_k\": 16,\n",
    "      \"max_output_tokens\": 2048,\n",
    "      \"candidate_count\": 1,\n",
    "      \"stop_sequences\": []\n",
    "    },\n",
    "    \"safety_settings\": {\n",
    "      \"category\": \"HARM_CATEGORY_SEXUALLY_EXPLICIT\",\n",
    "      \"threshold\": \"BLOCK_LOW_AND_ABOVE\"\n",
    "    }\n",
    "  }'"
   ]
  },
  {
   "cell_type": "markdown",
   "metadata": {
    "id": "TVF4vHuBOD8N"
   },
   "source": [
    "### Generate text from a video file\n",
    "\n",
    "Specify the Cloud Storage URI of the video to include in the prompt. The bucket that stores the file must be in the same Google Cloud project that's sending the request. You must also specify the `mime_type` field. The supported MIME types for video include `video/mp4`.\n"
   ]
  },
  {
   "cell_type": "code",
   "execution_count": 13,
   "metadata": {
    "id": "F8kS5p0l_uHE",
    "tags": []
   },
   "outputs": [
    {
     "name": "stderr",
     "output_type": "stream",
     "text": [
      "  % Total    % Received % Xferd  Average Speed   Time    Time     Time  Current\n",
      "                                 Dload  Upload   Total   Spent    Left  Speed\n",
      "100  1525    0  1011  100   514    290    147  0:00:03  0:00:03 --:--:--   437\n"
     ]
    },
    {
     "name": "stdout",
     "output_type": "stream",
     "text": [
      "{\n",
      "  \"candidates\": [\n",
      "    {\n",
      "      \"content\": {\n",
      "        \"role\": \"model\",\n",
      "        \"parts\": [\n",
      "          {\n",
      "            \"text\": \"```json\\n{\\n\\\"Profession\\\": \\\"Photographer\\\",\\n\\\"Phone Features\\\": \\\"Video boost with Night Sight\\\",\\n\\\"City\\\": \\\"Tokyo\\\"\\n}\\n```\"\n",
      "          }\n",
      "        ]\n",
      "      },\n",
      "      \"finishReason\": \"STOP\",\n",
      "      \"avgLogprobs\": -0.22779150570140166\n",
      "    }\n",
      "  ],\n",
      "  \"usageMetadata\": {\n",
      "    \"promptTokenCount\": 16285,\n",
      "    \"candidatesTokenCount\": 34,\n",
      "    \"totalTokenCount\": 16319,\n",
      "    \"trafficType\": \"ON_DEMAND\",\n",
      "    \"promptTokensDetails\": [\n",
      "      {\n",
      "        \"modality\": \"TEXT\",\n",
      "        \"tokenCount\": 40\n",
      "      },\n",
      "      {\n",
      "        \"modality\": \"VIDEO\",\n",
      "        \"tokenCount\": 14820\n",
      "      },\n",
      "      {\n",
      "        \"modality\": \"AUDIO\",\n",
      "        \"tokenCount\": 1425\n",
      "      }\n",
      "    ],\n",
      "    \"candidatesTokensDetails\": [\n",
      "      {\n",
      "        \"modality\": \"TEXT\",\n",
      "        \"tokenCount\": 34\n",
      "      }\n",
      "    ]\n",
      "  },\n",
      "  \"modelVersion\": \"gemini-2.0-flash-001\",\n",
      "  \"createTime\": \"2025-04-19T16:25:08.526555Z\",\n",
      "  \"responseId\": \"ZM4DaNuRILrPwtQPx6jKiAY\"\n",
      "}\n"
     ]
    }
   ],
   "source": [
    "%%bash\n",
    "\n",
    "curl -X POST \\\n",
    "  -H \"Authorization: Bearer $(gcloud auth print-access-token)\" \\\n",
    "  -H \"Content-Type: application/json\" \\\n",
    "  https://${API_ENDPOINT}/v1/projects/${PROJECT_ID}/locations/${LOCATION}/publishers/google/models/${MODEL_ID}:generateContent \\\n",
    "  -d \\\n",
    "'{\n",
    "    \"contents\": {\n",
    "      \"role\": \"USER\",\n",
    "      \"parts\": [\n",
    "        {\n",
    "          \"text\": \"Answer the following questions using the video only. What is the profession of the main person? What are the main features of the phone highlighted?Which city was this recorded in?Provide the answer JSON.\"\n",
    "        },\n",
    "        {\n",
    "          \"file_data\": {\n",
    "            \"mime_type\": \"video/mp4\",\n",
    "            \"file_uri\": \"gs://github-repo/img/gemini/multimodality_usecases_overview/pixel8.mp4\"\n",
    "          }\n",
    "        }\n",
    "      ]\n",
    "    }\n",
    "  }'"
   ]
  }
 ],
 "metadata": {
  "colab": {
   "name": "intro_gemini_curl.ipynb",
   "toc_visible": true
  },
  "environment": {
   "kernel": "conda-base-py",
   "name": "workbench-notebooks.m129",
   "type": "gcloud",
   "uri": "us-docker.pkg.dev/deeplearning-platform-release/gcr.io/workbench-notebooks:m129"
  },
  "kernelspec": {
   "display_name": "Python 3 (ipykernel) (Local) (Local)",
   "language": "python",
   "name": "conda-base-py"
  },
  "language_info": {
   "codemirror_mode": {
    "name": "ipython",
    "version": 3
   },
   "file_extension": ".py",
   "mimetype": "text/x-python",
   "name": "python",
   "nbconvert_exporter": "python",
   "pygments_lexer": "ipython3",
   "version": "3.10.16"
  }
 },
 "nbformat": 4,
 "nbformat_minor": 4
}
